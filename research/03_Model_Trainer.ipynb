{
 "cells": [
  {
   "cell_type": "code",
   "execution_count": null,
   "metadata": {},
   "outputs": [],
   "source": [
    "import os\n"
   ]
  },
  {
   "cell_type": "code",
   "execution_count": null,
   "metadata": {},
   "outputs": [],
   "source": [
    "%pwd"
   ]
  },
  {
   "cell_type": "code",
   "execution_count": null,
   "metadata": {},
   "outputs": [],
   "source": [
    "os.chdir(\"../\")"
   ]
  },
  {
   "cell_type": "code",
   "execution_count": null,
   "metadata": {},
   "outputs": [],
   "source": [
    "from dataclasses import dataclass\n",
    "from pathlib import Path\n",
    "\n",
    "\n",
    "@dataclass\n",
    "class ModelTrainerConfig:\n",
    "    root_dir: Path\n",
    "    data_path: Path\n",
    "    model_ckpt: Path\n",
    "    num_train_epochs: int\n",
    "    warmup_steps: int\n",
    "    per_device_train_batch_size: int\n",
    "    weight_decay: float\n",
    "    logging_steps: int\n",
    "    evaluation_strategy: str\n",
    "    eval_steps: int\n",
    "    save_steps: float\n",
    "    gradient_accumulation_steps: int"
   ]
  },
  {
   "cell_type": "code",
   "execution_count": null,
   "metadata": {},
   "outputs": [],
   "source": [
    "from src.textSummerizer.constants import *\n",
    "from src.textSummerizer.utils.common import read_yaml, create_directories"
   ]
  },
  {
   "cell_type": "code",
   "execution_count": null,
   "metadata": {},
   "outputs": [],
   "source": [
    "class ConfigurationManager:\n",
    "    def __init__(self,config_path=CONFIG_FILE_PATH,\n",
    "             params_filepath = PARAMS_FILE_PATH):\n",
    "        self.config = read_yaml(config_path)\n",
    "        self.params =read_yaml(params_filepath)\n",
    "        \n",
    "        create_directories([self.config.artifact_root])\n",
    "    \n",
    "    def get_model_trainer_config(self)->ModelTrainerConfig:\n",
    "        config = self.config.model_trainer\n",
    "        params = self.params.TrainingArguments\n",
    "        \n",
    "        create_directories([config.root_dir])\n",
    "        \n",
    "        model_trainer_config = ModelTrainerConfig(\n",
    "            \n",
    "                root_dir= config.root_dir,\n",
    "                data_path=config.data_path,\n",
    "                model_ckpt= config.model_ckpt,\n",
    "                num_train_epochs= params.num_train_epochs,\n",
    "                warmup_steps= params.warmup_steps,\n",
    "                per_device_train_batch_size= params.per_device_train_batch_size ,\n",
    "                weight_decay= params.weight_decay ,\n",
    "                logging_steps= params.logging_steps ,\n",
    "                evaluation_strategy= params.evaluation_strategy ,\n",
    "                eval_steps= params.eval_steps ,\n",
    "                save_steps= params.save_steps ,\n",
    "                gradient_accumulation_steps=params.gradient_accumulation_steps\n",
    "        )\n",
    "        \n",
    "        return model_trainer_config"
   ]
  },
  {
   "cell_type": "code",
   "execution_count": null,
   "metadata": {},
   "outputs": [],
   "source": [
    "from transformers import AutoModelForSeq2SeqLM, AutoTokenizer\n",
    "from transformers import DataCollatorForSeq2Seq\n",
    "from transformers import TrainingArguments, Trainer\n",
    "import torch\n",
    "from datasets import load_from_disk"
   ]
  },
  {
   "cell_type": "code",
   "execution_count": null,
   "metadata": {},
   "outputs": [],
   "source": [
    "class ModelTrainer:\n",
    "    def __init__(self,config:ModelTrainerConfig):\n",
    "        self.config= config\n",
    "        \n",
    "    def train(self):\n",
    "        device = \"cuda\" if torch.cuda.is_available() else \"cpu\"\n",
    "        tokenizer = AutoTokenizer.from_pretrained(self.config.model_ckpt)\n",
    "        model_pegasus =AutoModelForSeq2SeqLM.from_pretrained(self.config.model_ckpt).to(device)\n",
    "        seq2seq_data_collator = DataCollatorForSeq2Seq(tokenizer, model=model_pegasus)\n",
    "        \n",
    "        #loading the data\n",
    "        datasest_samsum_pt =load_from_disk(self.config.data_path)\n",
    "        \n",
    "        trainer_args = TrainingArguments(\n",
    "            output_dir=self.config.root_dir,\n",
    "            num_train_epochs=10,             # Number of times to iterate over the entire dataset\n",
    "            warmup_steps=500,               # Steps for learning rate warmup before training starts\n",
    "            per_device_train_batch_size=1,  # Batch size during training (per device/GPU)\n",
    "            per_device_eval_batch_size=1,   # Batch size during evaluation (per device/GPU)\n",
    "            weight_decay=0.01,              # L2 regularization to prevent overfitting\n",
    "            logging_steps=10,               # Log metrics every 10 steps\n",
    "            evaluation_strategy='steps',    # Evaluation occurs at specific steps (not after each epoch)\n",
    "            eval_steps=500,                 # Run evaluation every 500 steps\n",
    "            save_steps=1e6,                 # Save model checkpoint after 1 million steps (effectively never during training)\n",
    "            gradient_accumulation_steps=16  # Accumulate gradients over 16 steps before updating weights\n",
    "        )\n",
    "        dataset_samsum_pt =load_from_disk(self.config.data_path)\n",
    "        \n",
    "        trainer = Trainer(model = model_pegasus,\n",
    "                  args = trainer_args,\n",
    "                  tokenizer =tokenizer,data_collator=seq2seq_data_collator,\n",
    "                  train_dataset =dataset_samsum_pt['test'],\n",
    "                  eval_dataset = dataset_samsum_pt['validation'])\n",
    "\n",
    "        trainer.train()\n",
    "        \n",
    "        #Saving the model\n",
    "        model_pegasus.save_pretrained(os.path.join(self.config.root_dir,\"pegasus-samsum-model\"))\n",
    "        \n",
    "        #saving the tokenizer\n",
    "        tokenizer.save_pretrained(os.path.join(self.config.root_dir,\"tokenizer\"))\n",
    "\n",
    "        "
   ]
  },
  {
   "cell_type": "code",
   "execution_count": null,
   "metadata": {},
   "outputs": [],
   "source": [
    "!pip install --upgrade accelerate\n",
    "!pip unistall -y transformers accelerate\n",
    "!pip install transformers accelerate"
   ]
  },
  {
   "cell_type": "code",
   "execution_count": null,
   "metadata": {},
   "outputs": [],
   "source": [
    "config =ConfigurationManager()\n",
    "model_trainer_config = config.get_model_trainer_config()\n",
    "model_trainer = ModelTrainer(config =model_trainer_config)\n",
    "model_trainer.train()"
   ]
  },
  {
   "cell_type": "code",
   "execution_count": null,
   "metadata": {},
   "outputs": [],
   "source": []
  }
 ],
 "metadata": {
  "kernelspec": {
   "display_name": "Python 3",
   "language": "python",
   "name": "python3"
  },
  "language_info": {
   "codemirror_mode": {
    "name": "ipython",
    "version": 3
   },
   "file_extension": ".py",
   "mimetype": "text/x-python",
   "name": "python",
   "nbconvert_exporter": "python",
   "pygments_lexer": "ipython3",
   "version": "3.10.0"
  }
 },
 "nbformat": 4,
 "nbformat_minor": 2
}
